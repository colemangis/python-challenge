{
 "cells": [
  {
   "cell_type": "code",
   "execution_count": 34,
   "metadata": {},
   "outputs": [],
   "source": [
    "import os\n",
    "import csv\n",
    "import inspect\n",
    "import pandas as pd\n",
    "import numpy as np"
   ]
  },
  {
   "cell_type": "code",
   "execution_count": 35,
   "metadata": {},
   "outputs": [
    {
     "name": "stdout",
     "output_type": "stream",
     "text": [
      "['election_data.csv', 'output.txt']\n",
      "   Voter ID County Candidate\n",
      "0  12864552  Marsh      Khan\n",
      "1  17444633  Marsh    Correy\n",
      "2  19330107  Marsh      Khan\n",
      "3  19865775  Queen      Khan\n",
      "4  11927875  Marsh      Khan\n"
     ]
    }
   ],
   "source": [
    "print(os.listdir('Resources/'))\n",
    "file_path = os.path.join('Resources','election_data.csv')\n",
    "file_df = pd.read_csv(file_path)\n",
    "print(file_df.head())"
   ]
  },
  {
   "cell_type": "code",
   "execution_count": 4,
   "metadata": {},
   "outputs": [
    {
     "data": {
      "text/html": [
       "<div>\n",
       "<style scoped>\n",
       "    .dataframe tbody tr th:only-of-type {\n",
       "        vertical-align: middle;\n",
       "    }\n",
       "\n",
       "    .dataframe tbody tr th {\n",
       "        vertical-align: top;\n",
       "    }\n",
       "\n",
       "    .dataframe thead th {\n",
       "        text-align: right;\n",
       "    }\n",
       "</style>\n",
       "<table border=\"1\" class=\"dataframe\">\n",
       "  <thead>\n",
       "    <tr style=\"text-align: right;\">\n",
       "      <th></th>\n",
       "      <th>Voter ID</th>\n",
       "      <th>County</th>\n",
       "      <th>Candidate</th>\n",
       "      <th>Candidate_Count</th>\n",
       "    </tr>\n",
       "  </thead>\n",
       "  <tbody>\n",
       "    <tr>\n",
       "      <th>0</th>\n",
       "      <td>12864552</td>\n",
       "      <td>Marsh</td>\n",
       "      <td>Khan</td>\n",
       "      <td>2218231</td>\n",
       "    </tr>\n",
       "    <tr>\n",
       "      <th>1</th>\n",
       "      <td>17444633</td>\n",
       "      <td>Marsh</td>\n",
       "      <td>Correy</td>\n",
       "      <td>704200</td>\n",
       "    </tr>\n",
       "    <tr>\n",
       "      <th>2</th>\n",
       "      <td>19330107</td>\n",
       "      <td>Marsh</td>\n",
       "      <td>Khan</td>\n",
       "      <td>2218231</td>\n",
       "    </tr>\n",
       "    <tr>\n",
       "      <th>3</th>\n",
       "      <td>19865775</td>\n",
       "      <td>Queen</td>\n",
       "      <td>Khan</td>\n",
       "      <td>2218231</td>\n",
       "    </tr>\n",
       "    <tr>\n",
       "      <th>4</th>\n",
       "      <td>11927875</td>\n",
       "      <td>Marsh</td>\n",
       "      <td>Khan</td>\n",
       "      <td>2218231</td>\n",
       "    </tr>\n",
       "  </tbody>\n",
       "</table>\n",
       "</div>"
      ],
      "text/plain": [
       "   Voter ID County Candidate  Candidate_Count\n",
       "0  12864552  Marsh      Khan          2218231\n",
       "1  17444633  Marsh    Correy           704200\n",
       "2  19330107  Marsh      Khan          2218231\n",
       "3  19865775  Queen      Khan          2218231\n",
       "4  11927875  Marsh      Khan          2218231"
      ]
     },
     "execution_count": 4,
     "metadata": {},
     "output_type": "execute_result"
    }
   ],
   "source": [
    "#interesting transform\n",
    "#file_df['Candidate_Count'] = file_df.groupby('Candidate', as_index=False)['Candidate'].transform(lambda s: s.count())\n",
    "#file_df.head()"
   ]
  },
  {
   "cell_type": "code",
   "execution_count": 36,
   "metadata": {},
   "outputs": [
    {
     "name": "stdout",
     "output_type": "stream",
     "text": [
      "      index  Candidate\n",
      "0      Khan    2218231\n",
      "1    Correy     704200\n",
      "2        Li     492940\n",
      "3  O'Tooley     105630\n"
     ]
    },
    {
     "data": {
      "text/html": [
       "<div>\n",
       "<style scoped>\n",
       "    .dataframe tbody tr th:only-of-type {\n",
       "        vertical-align: middle;\n",
       "    }\n",
       "\n",
       "    .dataframe tbody tr th {\n",
       "        vertical-align: top;\n",
       "    }\n",
       "\n",
       "    .dataframe thead th {\n",
       "        text-align: right;\n",
       "    }\n",
       "</style>\n",
       "<table border=\"1\" class=\"dataframe\">\n",
       "  <thead>\n",
       "    <tr style=\"text-align: right;\">\n",
       "      <th></th>\n",
       "      <th>index</th>\n",
       "      <th>Candidate</th>\n",
       "    </tr>\n",
       "  </thead>\n",
       "  <tbody>\n",
       "    <tr>\n",
       "      <th>0</th>\n",
       "      <td>Khan</td>\n",
       "      <td>2218231</td>\n",
       "    </tr>\n",
       "    <tr>\n",
       "      <th>1</th>\n",
       "      <td>Correy</td>\n",
       "      <td>704200</td>\n",
       "    </tr>\n",
       "    <tr>\n",
       "      <th>2</th>\n",
       "      <td>Li</td>\n",
       "      <td>492940</td>\n",
       "    </tr>\n",
       "    <tr>\n",
       "      <th>3</th>\n",
       "      <td>O'Tooley</td>\n",
       "      <td>105630</td>\n",
       "    </tr>\n",
       "  </tbody>\n",
       "</table>\n",
       "</div>"
      ],
      "text/plain": [
       "      index  Candidate\n",
       "0      Khan    2218231\n",
       "1    Correy     704200\n",
       "2        Li     492940\n",
       "3  O'Tooley     105630"
      ]
     },
     "execution_count": 36,
     "metadata": {},
     "output_type": "execute_result"
    }
   ],
   "source": [
    "cand_votes = file_df[\"Candidate\"].value_counts()\n",
    "cand_votes\n",
    "grouped = pd.DataFrame(cand_votes)\n",
    "grouped.reset_index(level=0, inplace=True)\n",
    "print(grouped)\n",
    "grouped"
   ]
  },
  {
   "cell_type": "code",
   "execution_count": 37,
   "metadata": {},
   "outputs": [
    {
     "name": "stdout",
     "output_type": "stream",
     "text": [
      "2218231\n",
      "3521001\n"
     ]
    }
   ],
   "source": [
    "maximum = grouped['Candidate'].max()\n",
    "totVote = grouped['Candidate'].sum()\n",
    "print(maximum)\n",
    "print(totVote)"
   ]
  },
  {
   "cell_type": "code",
   "execution_count": 38,
   "metadata": {},
   "outputs": [
    {
     "name": "stdout",
     "output_type": "stream",
     "text": [
      "      index  Candidate   pct\n",
      "0      Khan    2218231  0.63\n",
      "1    Correy     704200  0.20\n",
      "2        Li     492940  0.14\n",
      "3  O'Tooley     105630  0.03\n"
     ]
    }
   ],
   "source": [
    "grouped['pct'] = grouped['Candidate']/totVote\n",
    "print(grouped)"
   ]
  },
  {
   "cell_type": "code",
   "execution_count": 39,
   "metadata": {},
   "outputs": [
    {
     "name": "stdout",
     "output_type": "stream",
     "text": [
      "['Khan', 'Correy', 'Li', \"O'Tooley\"]\n",
      "[2218231, 704200, 492940, 105630]\n",
      "63.000%\n"
     ]
    }
   ],
   "source": [
    "names = grouped['index'].values.tolist()\n",
    "vcount = grouped['Candidate'].values.tolist()\n",
    "percent = grouped['pct'].values.tolist()\n",
    "print(names)\n",
    "print(vcount)\n",
    "print(\"{0:.3%}\".format(percent[0]))"
   ]
  },
  {
   "cell_type": "code",
   "execution_count": 40,
   "metadata": {},
   "outputs": [
    {
     "name": "stdout",
     "output_type": "stream",
     "text": [
      "Election Results\n",
      "\n",
      "----------------------------\n",
      "\n",
      "Total Votes: 3521001\n",
      "\n",
      "----------------------------\n",
      "\n",
      "Khan: 63.000% (2218231)\n",
      "\n",
      "Correy: 20.000% (704200)\n",
      "\n",
      "Li: 14.000% (492940)\n",
      "\n",
      "O'Tooley: 3.000% (105630)\n",
      "\n",
      "----------------------------\n",
      "\n",
      "Winner: Khan\n",
      "\n",
      "----------------------------\n",
      "\n"
     ]
    }
   ],
   "source": [
    "print(\"Election Results\\n\")\n",
    "print(\"----------------------------\\n\")\n",
    "print(\"Total Votes: \"+ str(totVote) + '\\n')\n",
    "print(\"----------------------------\\n\")\n",
    "for i in range(len(names)):\n",
    "    print(names[i] + \": \"+ \"{0:.3%}\".format(percent[i]) + \" (\"+ str(vcount[i])  + \")\"+ '\\n')\n",
    "print(\"----------------------------\\n\")\n",
    "print(\"Winner: \"+ names[0] + '\\n')\n",
    "print(\"----------------------------\\n\")"
   ]
  },
  {
   "cell_type": "code",
   "execution_count": 41,
   "metadata": {},
   "outputs": [],
   "source": [
    "output_path = os.path.join('Resources','output.txt')\n",
    "text_file = open(output_path, \"w\")\n",
    "text_file.write(\"Election Results\\n\")\n",
    "text_file.write(\"----------------------------\\n\")\n",
    "text_file.write(\"Total Votes: \"+ str(totVote) + '\\n')\n",
    "text_file.write(\"----------------------------\\n\")\n",
    "for i in range(len(names)):\n",
    "    text_file.write(names[i] + \": \"+ \"{0:.3%}\".format(percent[i]) + \" (\"+ str(vcount[i])  + \")\"+ '\\n')\n",
    "text_file.write(\"----------------------------\\n\")\n",
    "text_file.write(\"Winner: \"+ names[0] + '\\n')\n",
    "text_file.write(\"----------------------------\\n\")\n",
    "text_file.close()"
   ]
  },
  {
   "cell_type": "code",
   "execution_count": null,
   "metadata": {},
   "outputs": [],
   "source": []
  }
 ],
 "metadata": {
  "kernelspec": {
   "display_name": "Python 3",
   "language": "python",
   "name": "python3"
  },
  "language_info": {
   "codemirror_mode": {
    "name": "ipython",
    "version": 3
   },
   "file_extension": ".py",
   "mimetype": "text/x-python",
   "name": "python",
   "nbconvert_exporter": "python",
   "pygments_lexer": "ipython3",
   "version": "3.6.5"
  }
 },
 "nbformat": 4,
 "nbformat_minor": 2
}
