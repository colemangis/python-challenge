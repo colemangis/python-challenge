{
 "cells": [
  {
   "cell_type": "code",
   "execution_count": 2,
   "metadata": {},
   "outputs": [],
   "source": [
    "import os\n",
    "import csv\n",
    "import inspect\n",
    "import pandas as pd\n",
    "import numpy as np\n"
   ]
  },
  {
   "cell_type": "code",
   "execution_count": 3,
   "metadata": {
    "scrolled": true
   },
   "outputs": [
    {
     "name": "stdout",
     "output_type": "stream",
     "text": [
      "['budget_data.csv', 'output.txt']\n",
      "     Date  Profit/Losses\n",
      "0  Jan-10         867884\n",
      "1  Feb-10         984655\n",
      "2  Mar-10         322013\n",
      "3  Apr-10         -69417\n",
      "4  May-10         310503\n"
     ]
    }
   ],
   "source": [
    "print(os.listdir('Resources/'))\n",
    "file_path = os.path.join('Resources','budget_data.csv')\n",
    "file_df = pd.read_csv(file_path)\n",
    "print(file_df.head())"
   ]
  },
  {
   "cell_type": "code",
   "execution_count": 4,
   "metadata": {},
   "outputs": [
    {
     "name": "stdout",
     "output_type": "stream",
     "text": [
      "38382578\n",
      "86\n"
     ]
    }
   ],
   "source": [
    "#get count and net\n",
    "net = 0\n",
    "count = 0\n",
    "\n",
    "with open(file_path) as file:\n",
    "    data = csv.reader(file,delimiter=',')\n",
    "    next(data)\n",
    "    for row in data:\n",
    "        x = int(row[1])\n",
    "        count += 1\n",
    "        net += x\n",
    "        \n",
    "print(net)\n",
    "print(count)"
   ]
  },
  {
   "cell_type": "code",
   "execution_count": 5,
   "metadata": {},
   "outputs": [
    {
     "data": {
      "text/html": [
       "<div>\n",
       "<style scoped>\n",
       "    .dataframe tbody tr th:only-of-type {\n",
       "        vertical-align: middle;\n",
       "    }\n",
       "\n",
       "    .dataframe tbody tr th {\n",
       "        vertical-align: top;\n",
       "    }\n",
       "\n",
       "    .dataframe thead th {\n",
       "        text-align: right;\n",
       "    }\n",
       "</style>\n",
       "<table border=\"1\" class=\"dataframe\">\n",
       "  <thead>\n",
       "    <tr style=\"text-align: right;\">\n",
       "      <th></th>\n",
       "      <th>Date</th>\n",
       "      <th>Profit/Losses</th>\n",
       "      <th>shifted</th>\n",
       "    </tr>\n",
       "  </thead>\n",
       "  <tbody>\n",
       "    <tr>\n",
       "      <th>0</th>\n",
       "      <td>Jan-10</td>\n",
       "      <td>867884</td>\n",
       "      <td>NaN</td>\n",
       "    </tr>\n",
       "    <tr>\n",
       "      <th>1</th>\n",
       "      <td>Feb-10</td>\n",
       "      <td>984655</td>\n",
       "      <td>867884.0</td>\n",
       "    </tr>\n",
       "    <tr>\n",
       "      <th>2</th>\n",
       "      <td>Mar-10</td>\n",
       "      <td>322013</td>\n",
       "      <td>984655.0</td>\n",
       "    </tr>\n",
       "    <tr>\n",
       "      <th>3</th>\n",
       "      <td>Apr-10</td>\n",
       "      <td>-69417</td>\n",
       "      <td>322013.0</td>\n",
       "    </tr>\n",
       "    <tr>\n",
       "      <th>4</th>\n",
       "      <td>May-10</td>\n",
       "      <td>310503</td>\n",
       "      <td>-69417.0</td>\n",
       "    </tr>\n",
       "    <tr>\n",
       "      <th>5</th>\n",
       "      <td>Jun-10</td>\n",
       "      <td>522857</td>\n",
       "      <td>310503.0</td>\n",
       "    </tr>\n",
       "    <tr>\n",
       "      <th>6</th>\n",
       "      <td>Jul-10</td>\n",
       "      <td>1033096</td>\n",
       "      <td>522857.0</td>\n",
       "    </tr>\n",
       "    <tr>\n",
       "      <th>7</th>\n",
       "      <td>Aug-10</td>\n",
       "      <td>604885</td>\n",
       "      <td>1033096.0</td>\n",
       "    </tr>\n",
       "    <tr>\n",
       "      <th>8</th>\n",
       "      <td>Sep-10</td>\n",
       "      <td>-216386</td>\n",
       "      <td>604885.0</td>\n",
       "    </tr>\n",
       "    <tr>\n",
       "      <th>9</th>\n",
       "      <td>Oct-10</td>\n",
       "      <td>477532</td>\n",
       "      <td>-216386.0</td>\n",
       "    </tr>\n",
       "  </tbody>\n",
       "</table>\n",
       "</div>"
      ],
      "text/plain": [
       "     Date  Profit/Losses    shifted\n",
       "0  Jan-10         867884        NaN\n",
       "1  Feb-10         984655   867884.0\n",
       "2  Mar-10         322013   984655.0\n",
       "3  Apr-10         -69417   322013.0\n",
       "4  May-10         310503   -69417.0\n",
       "5  Jun-10         522857   310503.0\n",
       "6  Jul-10        1033096   522857.0\n",
       "7  Aug-10         604885  1033096.0\n",
       "8  Sep-10        -216386   604885.0\n",
       "9  Oct-10         477532  -216386.0"
      ]
     },
     "execution_count": 5,
     "metadata": {},
     "output_type": "execute_result"
    }
   ],
   "source": [
    "#create a shifted column to get difference between months\n",
    "file_df['shifted'] = file_df['Profit/Losses'].shift(1)\n",
    "file_df.head(10)"
   ]
  },
  {
   "cell_type": "code",
   "execution_count": 6,
   "metadata": {},
   "outputs": [
    {
     "data": {
      "text/html": [
       "<div>\n",
       "<style scoped>\n",
       "    .dataframe tbody tr th:only-of-type {\n",
       "        vertical-align: middle;\n",
       "    }\n",
       "\n",
       "    .dataframe tbody tr th {\n",
       "        vertical-align: top;\n",
       "    }\n",
       "\n",
       "    .dataframe thead th {\n",
       "        text-align: right;\n",
       "    }\n",
       "</style>\n",
       "<table border=\"1\" class=\"dataframe\">\n",
       "  <thead>\n",
       "    <tr style=\"text-align: right;\">\n",
       "      <th></th>\n",
       "      <th>Date</th>\n",
       "      <th>Profit/Losses</th>\n",
       "      <th>shifted</th>\n",
       "      <th>diff</th>\n",
       "    </tr>\n",
       "  </thead>\n",
       "  <tbody>\n",
       "    <tr>\n",
       "      <th>0</th>\n",
       "      <td>Jan-10</td>\n",
       "      <td>867884</td>\n",
       "      <td>NaN</td>\n",
       "      <td>NaN</td>\n",
       "    </tr>\n",
       "    <tr>\n",
       "      <th>1</th>\n",
       "      <td>Feb-10</td>\n",
       "      <td>984655</td>\n",
       "      <td>867884.0</td>\n",
       "      <td>116771.0</td>\n",
       "    </tr>\n",
       "    <tr>\n",
       "      <th>2</th>\n",
       "      <td>Mar-10</td>\n",
       "      <td>322013</td>\n",
       "      <td>984655.0</td>\n",
       "      <td>-662642.0</td>\n",
       "    </tr>\n",
       "    <tr>\n",
       "      <th>3</th>\n",
       "      <td>Apr-10</td>\n",
       "      <td>-69417</td>\n",
       "      <td>322013.0</td>\n",
       "      <td>-391430.0</td>\n",
       "    </tr>\n",
       "    <tr>\n",
       "      <th>4</th>\n",
       "      <td>May-10</td>\n",
       "      <td>310503</td>\n",
       "      <td>-69417.0</td>\n",
       "      <td>379920.0</td>\n",
       "    </tr>\n",
       "    <tr>\n",
       "      <th>5</th>\n",
       "      <td>Jun-10</td>\n",
       "      <td>522857</td>\n",
       "      <td>310503.0</td>\n",
       "      <td>212354.0</td>\n",
       "    </tr>\n",
       "    <tr>\n",
       "      <th>6</th>\n",
       "      <td>Jul-10</td>\n",
       "      <td>1033096</td>\n",
       "      <td>522857.0</td>\n",
       "      <td>510239.0</td>\n",
       "    </tr>\n",
       "    <tr>\n",
       "      <th>7</th>\n",
       "      <td>Aug-10</td>\n",
       "      <td>604885</td>\n",
       "      <td>1033096.0</td>\n",
       "      <td>-428211.0</td>\n",
       "    </tr>\n",
       "    <tr>\n",
       "      <th>8</th>\n",
       "      <td>Sep-10</td>\n",
       "      <td>-216386</td>\n",
       "      <td>604885.0</td>\n",
       "      <td>-821271.0</td>\n",
       "    </tr>\n",
       "    <tr>\n",
       "      <th>9</th>\n",
       "      <td>Oct-10</td>\n",
       "      <td>477532</td>\n",
       "      <td>-216386.0</td>\n",
       "      <td>693918.0</td>\n",
       "    </tr>\n",
       "  </tbody>\n",
       "</table>\n",
       "</div>"
      ],
      "text/plain": [
       "     Date  Profit/Losses    shifted      diff\n",
       "0  Jan-10         867884        NaN       NaN\n",
       "1  Feb-10         984655   867884.0  116771.0\n",
       "2  Mar-10         322013   984655.0 -662642.0\n",
       "3  Apr-10         -69417   322013.0 -391430.0\n",
       "4  May-10         310503   -69417.0  379920.0\n",
       "5  Jun-10         522857   310503.0  212354.0\n",
       "6  Jul-10        1033096   522857.0  510239.0\n",
       "7  Aug-10         604885  1033096.0 -428211.0\n",
       "8  Sep-10        -216386   604885.0 -821271.0\n",
       "9  Oct-10         477532  -216386.0  693918.0"
      ]
     },
     "execution_count": 6,
     "metadata": {},
     "output_type": "execute_result"
    }
   ],
   "source": [
    "file_df['diff'] = file_df['Profit/Losses'] - file_df['shifted']\n",
    "file_df.head(10)"
   ]
  },
  {
   "cell_type": "code",
   "execution_count": 7,
   "metadata": {},
   "outputs": [],
   "source": [
    "file_df = file_df.dropna(how='any', axis=0)"
   ]
  },
  {
   "cell_type": "code",
   "execution_count": 18,
   "metadata": {},
   "outputs": [
    {
     "name": "stdout",
     "output_type": "stream",
     "text": [
      "-2315.1176470588234\n",
      "NEXT\n",
      "1926159.0\n",
      "NEXT\n",
      "Feb-12\n",
      "NEXT\n",
      "-2196167.0\n",
      "NEXT\n",
      "Sep-13\n"
     ]
    }
   ],
   "source": [
    "average = file_df['diff'].mean()\n",
    "maximum = file_df['diff'].max()\n",
    "max_date = file_df.loc[file_df['diff'] == maximum].values[0,0]\n",
    "minimum = file_df['diff'].min()\n",
    "min_lookup = file_df.loc[file_df['diff'] == minimum].values[0,0]\n",
    "\n",
    "print(average)\n",
    "print(\"NEXT\")\n",
    "print(maximum)\n",
    "print(\"NEXT\")\n",
    "print(max_date)\n",
    "print(\"NEXT\")\n",
    "print(minimum)\n",
    "print(\"NEXT\")\n",
    "print(min_date)\n"
   ]
  },
  {
   "cell_type": "code",
   "execution_count": 26,
   "metadata": {},
   "outputs": [
    {
     "name": "stdout",
     "output_type": "stream",
     "text": [
      "Financial Analysis\n",
      "\n",
      "----------------------------\n",
      "\n",
      "Total Months: 86\n",
      "\n",
      "Total: $38382578\n",
      "\n",
      "Average Change: $-2,315.12\n",
      "\n",
      "Greatest Increase in Profits: Feb-12 ($1926159)\n",
      "\n",
      "Greatest Decrease in Profits: Sep-13 ($-2196167)\n",
      "\n"
     ]
    }
   ],
   "source": [
    "print(\"Financial Analysis\\n\")\n",
    "print(\"----------------------------\\n\")\n",
    "print(\"Total Months: \"+ str(count) + '\\n')\n",
    "print(\"Total: $\"+ str(net) + '\\n')\n",
    "print(\"Average Change: \"+ '${:,.2f}'.format(average) + '\\n')\n",
    "print(\"Greatest Increase in Profits: \"+ str(max_date) + \" ($\" + str(int(maximum)) + \")\"'\\n')\n",
    "print(\"Greatest Decrease in Profits: \"+ str(min_date) + \" ($\" + str(int(minimum)) + \")\"'\\n')"
   ]
  },
  {
   "cell_type": "code",
   "execution_count": 25,
   "metadata": {},
   "outputs": [],
   "source": [
    "output_path = os.path.join('Resources','output.txt')\n",
    "text_file = open(output_path, \"w\")\n",
    "text_file.write(\"Financial Analysis\\n\")\n",
    "text_file.write(\"----------------------------\\n\")\n",
    "text_file.write(\"Total Months: \"+ str(count) + '\\n')\n",
    "text_file.write(\"Total: $\"+ str(net) + '\\n')\n",
    "text_file.write(\"Average Change: \"+ '${:,.2f}'.format(average) + '\\n')\n",
    "text_file.write(\"Greatest Increase in Profits: \"+ str(max_date) + \" ($\" + str(int(maximum)) + \")\"'\\n')\n",
    "text_file.write(\"Greatest Decrease in Profits: \"+ str(min_date) + \" ($\" + str(int(minimum)) + \")\"'\\n')\n",
    "text_file.close()"
   ]
  },
  {
   "cell_type": "code",
   "execution_count": 3,
   "metadata": {},
   "outputs": [],
   "source": []
  },
  {
   "cell_type": "code",
   "execution_count": null,
   "metadata": {},
   "outputs": [],
   "source": []
  }
 ],
 "metadata": {
  "kernelspec": {
   "display_name": "PythonData",
   "language": "python",
   "name": "pythondata"
  },
  "language_info": {
   "codemirror_mode": {
    "name": "ipython",
    "version": 3
   },
   "file_extension": ".py",
   "mimetype": "text/x-python",
   "name": "python",
   "nbconvert_exporter": "python",
   "pygments_lexer": "ipython3",
   "version": "3.6.5"
  }
 },
 "nbformat": 4,
 "nbformat_minor": 2
}
